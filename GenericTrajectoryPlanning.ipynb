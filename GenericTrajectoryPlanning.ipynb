{
 "cells": [
  {
   "cell_type": "code",
   "execution_count": 1,
   "metadata": {},
   "outputs": [],
   "source": [
    "import numpy as np\n",
    "import matplotlib.pyplot as plt"
   ]
  },
  {
   "cell_type": "code",
   "execution_count": 2,
   "metadata": {},
   "outputs": [],
   "source": [
    "# Helper Functions\n",
    "\n",
    "def nCr(n, r):\n",
    "    ''' Standard nCr Calculation\n",
    "    '''\n",
    "    return (fact(n) / (fact(r)  * fact(n - r))) \n",
    "  \n",
    "def fact(n): \n",
    "    ''' Standard factorial calculation\n",
    "    '''\n",
    "    res = 1\n",
    "    for i in range(2, n+1): \n",
    "        res = res * i \n",
    "    return res "
   ]
  },
  {
   "cell_type": "code",
   "execution_count": 3,
   "metadata": {},
   "outputs": [],
   "source": [
    "# Reference: http://graphics.cs.ucdavis.edu/education/CAGDNotes/Bernstein-Polynomials.pdf\n",
    "# Similar Reference: https://citeseerx.ist.psu.edu/viewdoc/download?doi=10.1.1.897.2894&rep=rep1&type=pdf \n",
    "def calc_bernstein(i, j, n):\n",
    "    ''' For degree n bernstein polynmial, calculates coeffecient at position i,j\n",
    "    '''\n",
    "    temp = (-1) ** (i-j)\n",
    "    return temp * nCr(n, i) * nCr(i, j)\n",
    "\n",
    "def make_bern(n):\n",
    "    ''' Creates bernstein coefficient matrix of size n\n",
    "        Look at references: http://graphics.cs.ucdavis.edu/education/CAGDNotes/Bernstein-Polynomials.pdf\n",
    "        and https://citeseerx.ist.psu.edu/viewdoc/download?doi=10.1.1.897.2894&rep=rep1&type=pdf \n",
    "        # B(t) = [1 t t^2...t^n] * make_bern(n) * [c0 c1 c2...cn] = [b0 b1 b2..bn] is the equation we're going for\n",
    "    '''\n",
    "    mat = []\n",
    "    for i in range(n+1):\n",
    "        temp = []\n",
    "        for j in range(n+1):\n",
    "            if i<j:\n",
    "                temp.append(0)\n",
    "            else:\n",
    "                temp.append(calc_bernstein(i, j, n))\n",
    "        mat.append(temp)\n",
    "    return np.array(mat)"
   ]
  },
  {
   "cell_type": "code",
   "execution_count": 4,
   "metadata": {},
   "outputs": [],
   "source": [
    "def calc_coef(derivative, j):\n",
    "    if derivative == 0:\n",
    "        return 1\n",
    "    else:\n",
    "        return j * calc_coef(derivative-1, j-1)\n",
    "    \n",
    "def eval_differentiation(bernstein_coef_mat, t, derivative):\n",
    "    ''' Will generically calculate the differentiation of the bernstein polynomial\n",
    "        derivative is 0 for no differentiation            [position]\n",
    "                      1 for first differentiation         [velocity]\n",
    "                      2 for second differentiation ...    [acceleration]\n",
    "                      ...\n",
    "        t is the time at which the differentiation is evaluated\n",
    "        bernstein_coef_mat is what was calculated from make_bern\n",
    "    '''\n",
    "    temp = []\n",
    "    x = len(bernstein_coef_mat)\n",
    "    for i in range(x):\n",
    "        val = 0\n",
    "        for j in range(x):\n",
    "            if j-derivative < 0:\n",
    "                val += 0\n",
    "            else: \n",
    "                val += calc_coef(derivative, j) * bernstein_coef_mat[j][i] * t **(j-derivative)\n",
    "        temp.append(val)\n",
    "    return temp"
   ]
  },
  {
   "cell_type": "code",
   "execution_count": 5,
   "metadata": {},
   "outputs": [],
   "source": [
    "# Generic form of the list to be passed [{'derivative': d, 'dims': [x, y, z...], 'time': t}, ...]\n",
    "# For position we would put: \n",
    "# {'derivative': 0, 'dims': [xpos, ypos], 'time': t} \n",
    "# if the robot is to be at (xpos, ypos) at timestep t\n",
    "# Similarly for velocity we would put:\n",
    "# {'derivative': 1, 'dims': [xvel, yvel], 'time': t} \n",
    "# if the robot has a velocity (xvel, yvel) at timestep t   [xvel in x direction and yvel in y direction]\n",
    "\n",
    "\n",
    "# the above list of dictionary can be expressed concisely as a list of tuples instead, to save space\n",
    "# constraints [(derivative, (x, y, z...), time) ....]\n",
    "\n",
    "\n",
    "def construct_poly(constraints, dimensions):\n",
    "    ''' Function used to construct a bernstein polynomial. Dimensions refers to how many\n",
    "        dimensions we need to keep track of (2d, 3d, ...). Takes integer 2, 3, 4 ... n\n",
    "        constraints are given in the form of a list of tuples\n",
    "        General form: [(derivative, (x, y, z...), time) ....]\n",
    "    '''\n",
    "    num_constraints = len(constraints) # num_constraints\n",
    "    bern_coefs = make_bern(num_constraints-1)\n",
    "    M = []\n",
    "    b = []\n",
    "    for i in range(dimensions):\n",
    "        b.append([])\n",
    "    for con in constraints:\n",
    "        coefs = eval_differentiation(bern_coefs, con[2], con[0])\n",
    "        assert(len(con[1]) == dimensions)\n",
    "        for i, dim in enumerate(con[1]):\n",
    "            b[i].append(dim)\n",
    "        M.append(coefs)\n",
    "    \n",
    "    M = np.array(M)\n",
    "    b = np.array(b)\n",
    "    c = []\n",
    "    for b_dim in b:\n",
    "        c.append(np.linalg.inv(M) @ b_dim.T)\n",
    "    return c\n",
    "\n",
    "def output_at_t(derivative, c_dim, t, bern_coefs):\n",
    "    ''' Helper function\n",
    "        evaluates a particular dimension's coefficients at a particular instant t\n",
    "    '''\n",
    "    output = []\n",
    "    output.append(np.array(eval_differentiation(bern_coefs, t, derivative)) @ c_dim.T)\n",
    "    return np.array(output)\n",
    "\n",
    "def calc_outputs(c, derivative, time):\n",
    "    ''' Function to evaluate the bernstein polynomial over a time sequence. \n",
    "        c refers to the coeffecients calculated by the construct_poly function\n",
    "        derivative refers to which derivative of the function you want the output of.\n",
    "        ex. 0 => position, 1=>velocity, 2=>acceleration ...\n",
    "    '''\n",
    "    num_constraints = len(c[0])\n",
    "    bern_coefs = make_bern(num_constraints-1)\n",
    "    output = []\n",
    "    for c_dim in c:\n",
    "        output.append([output_at_t(derivative, c_dim, t, bern_coefs) for t in time])\n",
    "    return np.array(output)\n",
    "\n",
    "def help_plot(arr, time):\n",
    "    ''' Helper function to plot the outputs\n",
    "    '''\n",
    "    for dimension in arr:\n",
    "        plt.plot(dimension)\n",
    "        plt.show()"
   ]
  },
  {
   "cell_type": "markdown",
   "metadata": {},
   "source": [
    "The advantage of this method is that a constraint can easily be added to the system, with no change in code.\n",
    "Try adding one!"
   ]
  },
  {
   "cell_type": "code",
   "execution_count": 6,
   "metadata": {},
   "outputs": [],
   "source": [
    "time = np.arange(0, 5.5, 0.1).tolist()\n",
    "constraints = [\n",
    "    (0, (3, 0), 0), # pos, at time 0 is (3, 0)\n",
    "    (1, (-2, -3), 2), # vel at time 2 is (-2, -3)\n",
    "    (0, (9, 5), 5), # pos at time 5 will be (9, 5)\n",
    "    (1, (0, 0), 0), # vel at time 0 will be (0, 0)\n",
    "    (1, (0, 0), 5), # vel at time 5 will be (0, 0)\n",
    "    (2, (2, -3), 2.2), # acc at time 2.2 will be (2, -3)\n",
    "    (0, (5, 3), 3), # pos at time 3 will be (5, 3)\n",
    "    (0, (4, 2.5), 2.5) # pos at time 2.5 will be (4, 2.5)\n",
    "]"
   ]
  },
  {
   "cell_type": "code",
   "execution_count": 7,
   "metadata": {},
   "outputs": [],
   "source": [
    "c = construct_poly(constraints, 2)\n",
    "positions = calc_outputs(c, 0, time)\n",
    "velocities = calc_outputs(c, 1, time)\n",
    "accs = calc_outputs(c, 2, time)"
   ]
  },
  {
   "cell_type": "code",
   "execution_count": 8,
   "metadata": {},
   "outputs": [
    {
     "data": {
      "image/png": "[encoded data removed]",
      "text/plain": [
       "<Figure size 432x288 with 1 Axes>"
      ]
     },
     "metadata": {},
     "output_type": "display_data"
    },
    {
     "data": {
      "image/png": "[encoded data removed]",
      "text/plain": [
       "<Figure size 432x288 with 1 Axes>"
      ]
     },
     "metadata": {},
     "output_type": "display_data"
    }
   ],
   "source": [
    "help_plot(positions, time) \n",
    "# help_plot(velocities, time)\n",
    "# help_plot(accs, time,)"
   ]
  }
 ],
 "metadata": {
  "kernelspec": {
   "display_name": "Python 3",
   "language": "python",
   "name": "python3"
  },
  "language_info": {
   "codemirror_mode": {
    "name": "ipython",
    "version": 3
   },
   "file_extension": ".py",
   "mimetype": "text/x-python",
   "name": "python",
   "nbconvert_exporter": "python",
   "pygments_lexer": "ipython3",
   "version": "3.7.4"
  }
 },
 "nbformat": 4,
 "nbformat_minor": 2
}
